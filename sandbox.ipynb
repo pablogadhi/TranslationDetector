{
 "cells": [
  {
   "cell_type": "code",
   "execution_count": 1,
   "metadata": {},
   "outputs": [],
   "source": [
    "import torch\n",
    "from translation.train import load_data, train_model\n",
    "from translation.test import eval_model\n",
    "from translation.transformer import Transformer"
   ]
  },
  {
   "cell_type": "code",
   "execution_count": 2,
   "metadata": {},
   "outputs": [
    {
     "output_type": "execute_result",
     "data": {
      "text/plain": "device(type='cuda')"
     },
     "metadata": {},
     "execution_count": 2
    }
   ],
   "source": [
    "device = torch.device('cuda' if torch.cuda.is_available() else 'cpu')\n",
    "device"
   ]
  },
  {
   "cell_type": "markdown",
   "metadata": {},
   "source": [
    "### Load data and create the model"
   ]
  },
  {
   "cell_type": "code",
   "execution_count": 3,
   "metadata": {},
   "outputs": [],
   "source": [
    "SRC, TGT, train_itr, valid_itr, test_itr = load_data(\n",
    "        \"data/en-es/en-es_\", \"en.txt\", \"es.txt\", device, batch_size=2)"
   ]
  },
  {
   "cell_type": "code",
   "execution_count": 14,
   "metadata": {},
   "outputs": [],
   "source": [
    "model = Transformer(len(SRC.vocab), len(\n",
    "        TGT.vocab), SRC.vocab.stoi['<pad>'], TGT.vocab.stoi['<pad>']).to(device)"
   ]
  },
  {
   "cell_type": "code",
   "execution_count": 11,
   "metadata": {},
   "outputs": [],
   "source": [
    "try:\n",
    "    del model\n",
    "except:\n",
    "    pass"
   ]
  },
  {
   "cell_type": "code",
   "execution_count": 12,
   "metadata": {},
   "outputs": [],
   "source": [
    "torch.cuda.empty_cache()"
   ]
  },
  {
   "cell_type": "code",
   "execution_count": null,
   "metadata": {},
   "outputs": [],
   "source": [
    "len(SRC.vocab.itos)"
   ]
  },
  {
   "cell_type": "markdown",
   "metadata": {},
   "source": [
    "### Train the model"
   ]
  },
  {
   "cell_type": "code",
   "execution_count": 15,
   "metadata": {},
   "outputs": [
    {
     "output_type": "error",
     "ename": "RuntimeError",
     "evalue": "CUDA error: CUBLAS_STATUS_INTERNAL_ERROR when calling `cublasSgemm( handle, opa, opb, m, n, k, &alpha, a, lda, b, ldb, &beta, c, ldc)` (gemm<float> at /pytorch/aten/src/ATen/cuda/CUDABlas.cpp:165)\nframe #0: c10::Error::Error(c10::SourceLocation, std::string const&) + 0x46 (0x7fe324ff5536 in /home/gadhi/.virtualenvs/TranslationDetector-hIqwxbpz/lib/python3.8/site-packages/torch/lib/libc10.so)\nframe #1: <unknown function> + 0xf5da47 (0x7fe2c9d38a47 in /home/gadhi/.virtualenvs/TranslationDetector-hIqwxbpz/lib/python3.8/site-packages/torch/lib/libtorch_cuda.so)\nframe #2: <unknown function> + 0x14079bd (0x7fe2ca1e29bd in /home/gadhi/.virtualenvs/TranslationDetector-hIqwxbpz/lib/python3.8/site-packages/torch/lib/libtorch_cuda.so)\nframe #3: THCudaTensor_addmm + 0x5c (0x7fe2ca1ec56c in /home/gadhi/.virtualenvs/TranslationDetector-hIqwxbpz/lib/python3.8/site-packages/torch/lib/libtorch_cuda.so)\nframe #4: <unknown function> + 0x1053a08 (0x7fe2c9e2ea08 in /home/gadhi/.virtualenvs/TranslationDetector-hIqwxbpz/lib/python3.8/site-packages/torch/lib/libtorch_cuda.so)\nframe #5: <unknown function> + 0xf76dc8 (0x7fe2c9d51dc8 in /home/gadhi/.virtualenvs/TranslationDetector-hIqwxbpz/lib/python3.8/site-packages/torch/lib/libtorch_cuda.so)\nframe #6: <unknown function> + 0x10c3ec0 (0x7fe306327ec0 in /home/gadhi/.virtualenvs/TranslationDetector-hIqwxbpz/lib/python3.8/site-packages/torch/lib/libtorch_cpu.so)\nframe #7: <unknown function> + 0x2c9b6fe (0x7fe307eff6fe in /home/gadhi/.virtualenvs/TranslationDetector-hIqwxbpz/lib/python3.8/site-packages/torch/lib/libtorch_cpu.so)\nframe #8: <unknown function> + 0x10c3ec0 (0x7fe306327ec0 in /home/gadhi/.virtualenvs/TranslationDetector-hIqwxbpz/lib/python3.8/site-packages/torch/lib/libtorch_cpu.so)\nframe #9: at::Tensor c10::Dispatcher::callUnboxed<at::Tensor, at::Tensor const&, at::Tensor const&>(c10::OperatorHandle const&, at::Tensor const&, at::Tensor const&) const + 0xb3 (0x7fe3258b0f93 in /home/gadhi/.virtualenvs/TranslationDetector-hIqwxbpz/lib/python3.8/site-packages/torch/lib/libtorch_python.so)\nframe #10: <unknown function> + 0x28ac337 (0x7fe307b10337 in /home/gadhi/.virtualenvs/TranslationDetector-hIqwxbpz/lib/python3.8/site-packages/torch/lib/libtorch_cpu.so)\nframe #11: torch::autograd::generated::MmBackward::apply(std::vector<at::Tensor, std::allocator<at::Tensor> >&&) + 0x1c4 (0x7fe307b4b9e4 in /home/gadhi/.virtualenvs/TranslationDetector-hIqwxbpz/lib/python3.8/site-packages/torch/lib/libtorch_cpu.so)\nframe #12: <unknown function> + 0x2d89c05 (0x7fe307fedc05 in /home/gadhi/.virtualenvs/TranslationDetector-hIqwxbpz/lib/python3.8/site-packages/torch/lib/libtorch_cpu.so)\nframe #13: torch::autograd::Engine::evaluate_function(std::shared_ptr<torch::autograd::GraphTask>&, torch::autograd::Node*, torch::autograd::InputBuffer&) + 0x16f3 (0x7fe307feaf03 in /home/gadhi/.virtualenvs/TranslationDetector-hIqwxbpz/lib/python3.8/site-packages/torch/lib/libtorch_cpu.so)\nframe #14: torch::autograd::Engine::thread_main(std::shared_ptr<torch::autograd::GraphTask> const&, bool) + 0x3d2 (0x7fe307febce2 in /home/gadhi/.virtualenvs/TranslationDetector-hIqwxbpz/lib/python3.8/site-packages/torch/lib/libtorch_cpu.so)\nframe #15: torch::autograd::Engine::thread_init(int) + 0x39 (0x7fe307fe4359 in /home/gadhi/.virtualenvs/TranslationDetector-hIqwxbpz/lib/python3.8/site-packages/torch/lib/libtorch_cpu.so)\nframe #16: torch::autograd::python::PythonEngine::thread_init(int) + 0x38 (0x7fe325b70548 in /home/gadhi/.virtualenvs/TranslationDetector-hIqwxbpz/lib/python3.8/site-packages/torch/lib/libtorch_python.so)\nframe #17: <unknown function> + 0xd6cb4 (0x7fe338b66cb4 in /lib/x86_64-linux-gnu/libstdc++.so.6)\nframe #18: <unknown function> + 0x9609 (0x7fe33c162609 in /lib/x86_64-linux-gnu/libpthread.so.0)\nframe #19: clone + 0x43 (0x7fe33c29e103 in /lib/x86_64-linux-gnu/libc.so.6)\n",
     "traceback": [
      "\u001b[0;31m---------------------------------------------------------------------------\u001b[0m",
      "\u001b[0;31mRuntimeError\u001b[0m                              Traceback (most recent call last)",
      "\u001b[0;32m<ipython-input-15-004284541be3>\u001b[0m in \u001b[0;36m<module>\u001b[0;34m\u001b[0m\n\u001b[1;32m      1\u001b[0m \u001b[0mpad_idx\u001b[0m \u001b[0;34m=\u001b[0m \u001b[0mTGT\u001b[0m\u001b[0;34m.\u001b[0m\u001b[0mvocab\u001b[0m\u001b[0;34m.\u001b[0m\u001b[0mstoi\u001b[0m\u001b[0;34m[\u001b[0m\u001b[0;34m'<pad>'\u001b[0m\u001b[0;34m]\u001b[0m\u001b[0;34m\u001b[0m\u001b[0;34m\u001b[0m\u001b[0m\n\u001b[0;32m----> 2\u001b[0;31m \u001b[0mtrain_model\u001b[0m\u001b[0;34m(\u001b[0m\u001b[0mmodel\u001b[0m\u001b[0;34m,\u001b[0m \u001b[0mSRC\u001b[0m\u001b[0;34m,\u001b[0m \u001b[0mTGT\u001b[0m\u001b[0;34m,\u001b[0m \u001b[0mtrain_itr\u001b[0m\u001b[0;34m,\u001b[0m \u001b[0mvalid_itr\u001b[0m\u001b[0;34m,\u001b[0m \u001b[0mdevice\u001b[0m\u001b[0;34m,\u001b[0m \u001b[0;36m10\u001b[0m\u001b[0;34m,\u001b[0m \u001b[0msave_at\u001b[0m\u001b[0;34m=\u001b[0m\u001b[0;36m1\u001b[0m\u001b[0;34m)\u001b[0m\u001b[0;34m\u001b[0m\u001b[0;34m\u001b[0m\u001b[0m\n\u001b[0m",
      "\u001b[0;32m~/Documents/NLP/TranslationDetector/translation/train.py\u001b[0m in \u001b[0;36mtrain_model\u001b[0;34m(model, src, tgt, train_itr, valid_itr, device, epochs, checkpoint_f, save_at)\u001b[0m\n\u001b[1;32m     77\u001b[0m     \u001b[0;32mfor\u001b[0m \u001b[0mepoch\u001b[0m \u001b[0;32min\u001b[0m \u001b[0mrange\u001b[0m\u001b[0;34m(\u001b[0m\u001b[0mepochs\u001b[0m\u001b[0;34m)\u001b[0m\u001b[0;34m:\u001b[0m\u001b[0;34m\u001b[0m\u001b[0;34m\u001b[0m\u001b[0m\n\u001b[1;32m     78\u001b[0m \u001b[0;34m\u001b[0m\u001b[0m\n\u001b[0;32m---> 79\u001b[0;31m         train_loss = run_epoch(\n\u001b[0m\u001b[1;32m     80\u001b[0m             model, src, tgt, train_itr, optimizer, criterion, 100, device)\n\u001b[1;32m     81\u001b[0m         \u001b[0mvalid_loss\u001b[0m \u001b[0;34m=\u001b[0m \u001b[0meval_model\u001b[0m\u001b[0;34m(\u001b[0m\u001b[0mmodel\u001b[0m\u001b[0;34m,\u001b[0m \u001b[0mvalid_itr\u001b[0m\u001b[0;34m,\u001b[0m \u001b[0mcriterion\u001b[0m\u001b[0;34m)\u001b[0m\u001b[0;34m\u001b[0m\u001b[0;34m\u001b[0m\u001b[0m\n",
      "\u001b[0;32m~/Documents/NLP/TranslationDetector/translation/train.py\u001b[0m in \u001b[0;36mrun_epoch\u001b[0;34m(model, src_field, tgt_field, iterator, optimizer, criterion, log_interval, device)\u001b[0m\n\u001b[1;32m     48\u001b[0m \u001b[0;34m\u001b[0m\u001b[0m\n\u001b[1;32m     49\u001b[0m         \u001b[0mloss\u001b[0m \u001b[0;34m=\u001b[0m \u001b[0mcriterion\u001b[0m\u001b[0;34m(\u001b[0m\u001b[0moutput\u001b[0m\u001b[0;34m,\u001b[0m \u001b[0mtgt\u001b[0m\u001b[0;34m)\u001b[0m\u001b[0;34m\u001b[0m\u001b[0;34m\u001b[0m\u001b[0m\n\u001b[0;32m---> 50\u001b[0;31m         \u001b[0mloss\u001b[0m\u001b[0;34m.\u001b[0m\u001b[0mbackward\u001b[0m\u001b[0;34m(\u001b[0m\u001b[0;34m)\u001b[0m\u001b[0;34m\u001b[0m\u001b[0;34m\u001b[0m\u001b[0m\n\u001b[0m\u001b[1;32m     51\u001b[0m \u001b[0;34m\u001b[0m\u001b[0m\n\u001b[1;32m     52\u001b[0m         \u001b[0mtorch\u001b[0m\u001b[0;34m.\u001b[0m\u001b[0mnn\u001b[0m\u001b[0;34m.\u001b[0m\u001b[0mutils\u001b[0m\u001b[0;34m.\u001b[0m\u001b[0mclip_grad_norm_\u001b[0m\u001b[0;34m(\u001b[0m\u001b[0mmodel\u001b[0m\u001b[0;34m.\u001b[0m\u001b[0mparameters\u001b[0m\u001b[0;34m(\u001b[0m\u001b[0;34m)\u001b[0m\u001b[0;34m,\u001b[0m \u001b[0;36m5\u001b[0m\u001b[0;34m)\u001b[0m\u001b[0;34m\u001b[0m\u001b[0;34m\u001b[0m\u001b[0m\n",
      "\u001b[0;32m~/.virtualenvs/TranslationDetector-hIqwxbpz/lib/python3.8/site-packages/torch/tensor.py\u001b[0m in \u001b[0;36mbackward\u001b[0;34m(self, gradient, retain_graph, create_graph)\u001b[0m\n\u001b[1;32m    196\u001b[0m                 \u001b[0mproducts\u001b[0m\u001b[0;34m.\u001b[0m \u001b[0mDefaults\u001b[0m \u001b[0mto\u001b[0m\u001b[0;31m \u001b[0m\u001b[0;31m`\u001b[0m\u001b[0;31m`\u001b[0m\u001b[0;32mFalse\u001b[0m\u001b[0;31m`\u001b[0m\u001b[0;31m`\u001b[0m\u001b[0;34m.\u001b[0m\u001b[0;34m\u001b[0m\u001b[0;34m\u001b[0m\u001b[0m\n\u001b[1;32m    197\u001b[0m         \"\"\"\n\u001b[0;32m--> 198\u001b[0;31m         \u001b[0mtorch\u001b[0m\u001b[0;34m.\u001b[0m\u001b[0mautograd\u001b[0m\u001b[0;34m.\u001b[0m\u001b[0mbackward\u001b[0m\u001b[0;34m(\u001b[0m\u001b[0mself\u001b[0m\u001b[0;34m,\u001b[0m \u001b[0mgradient\u001b[0m\u001b[0;34m,\u001b[0m \u001b[0mretain_graph\u001b[0m\u001b[0;34m,\u001b[0m \u001b[0mcreate_graph\u001b[0m\u001b[0;34m)\u001b[0m\u001b[0;34m\u001b[0m\u001b[0;34m\u001b[0m\u001b[0m\n\u001b[0m\u001b[1;32m    199\u001b[0m \u001b[0;34m\u001b[0m\u001b[0m\n\u001b[1;32m    200\u001b[0m     \u001b[0;32mdef\u001b[0m \u001b[0mregister_hook\u001b[0m\u001b[0;34m(\u001b[0m\u001b[0mself\u001b[0m\u001b[0;34m,\u001b[0m \u001b[0mhook\u001b[0m\u001b[0;34m)\u001b[0m\u001b[0;34m:\u001b[0m\u001b[0;34m\u001b[0m\u001b[0;34m\u001b[0m\u001b[0m\n",
      "\u001b[0;32m~/.virtualenvs/TranslationDetector-hIqwxbpz/lib/python3.8/site-packages/torch/autograd/__init__.py\u001b[0m in \u001b[0;36mbackward\u001b[0;34m(tensors, grad_tensors, retain_graph, create_graph, grad_variables)\u001b[0m\n\u001b[1;32m     96\u001b[0m         \u001b[0mretain_graph\u001b[0m \u001b[0;34m=\u001b[0m \u001b[0mcreate_graph\u001b[0m\u001b[0;34m\u001b[0m\u001b[0;34m\u001b[0m\u001b[0m\n\u001b[1;32m     97\u001b[0m \u001b[0;34m\u001b[0m\u001b[0m\n\u001b[0;32m---> 98\u001b[0;31m     Variable._execution_engine.run_backward(\n\u001b[0m\u001b[1;32m     99\u001b[0m         \u001b[0mtensors\u001b[0m\u001b[0;34m,\u001b[0m \u001b[0mgrad_tensors\u001b[0m\u001b[0;34m,\u001b[0m \u001b[0mretain_graph\u001b[0m\u001b[0;34m,\u001b[0m \u001b[0mcreate_graph\u001b[0m\u001b[0;34m,\u001b[0m\u001b[0;34m\u001b[0m\u001b[0;34m\u001b[0m\u001b[0m\n\u001b[1;32m    100\u001b[0m         allow_unreachable=True)  # allow_unreachable flag\n",
      "\u001b[0;31mRuntimeError\u001b[0m: CUDA error: CUBLAS_STATUS_INTERNAL_ERROR when calling `cublasSgemm( handle, opa, opb, m, n, k, &alpha, a, lda, b, ldb, &beta, c, ldc)` (gemm<float> at /pytorch/aten/src/ATen/cuda/CUDABlas.cpp:165)\nframe #0: c10::Error::Error(c10::SourceLocation, std::string const&) + 0x46 (0x7fe324ff5536 in /home/gadhi/.virtualenvs/TranslationDetector-hIqwxbpz/lib/python3.8/site-packages/torch/lib/libc10.so)\nframe #1: <unknown function> + 0xf5da47 (0x7fe2c9d38a47 in /home/gadhi/.virtualenvs/TranslationDetector-hIqwxbpz/lib/python3.8/site-packages/torch/lib/libtorch_cuda.so)\nframe #2: <unknown function> + 0x14079bd (0x7fe2ca1e29bd in /home/gadhi/.virtualenvs/TranslationDetector-hIqwxbpz/lib/python3.8/site-packages/torch/lib/libtorch_cuda.so)\nframe #3: THCudaTensor_addmm + 0x5c (0x7fe2ca1ec56c in /home/gadhi/.virtualenvs/TranslationDetector-hIqwxbpz/lib/python3.8/site-packages/torch/lib/libtorch_cuda.so)\nframe #4: <unknown function> + 0x1053a08 (0x7fe2c9e2ea08 in /home/gadhi/.virtualenvs/TranslationDetector-hIqwxbpz/lib/python3.8/site-packages/torch/lib/libtorch_cuda.so)\nframe #5: <unknown function> + 0xf76dc8 (0x7fe2c9d51dc8 in /home/gadhi/.virtualenvs/TranslationDetector-hIqwxbpz/lib/python3.8/site-packages/torch/lib/libtorch_cuda.so)\nframe #6: <unknown function> + 0x10c3ec0 (0x7fe306327ec0 in /home/gadhi/.virtualenvs/TranslationDetector-hIqwxbpz/lib/python3.8/site-packages/torch/lib/libtorch_cpu.so)\nframe #7: <unknown function> + 0x2c9b6fe (0x7fe307eff6fe in /home/gadhi/.virtualenvs/TranslationDetector-hIqwxbpz/lib/python3.8/site-packages/torch/lib/libtorch_cpu.so)\nframe #8: <unknown function> + 0x10c3ec0 (0x7fe306327ec0 in /home/gadhi/.virtualenvs/TranslationDetector-hIqwxbpz/lib/python3.8/site-packages/torch/lib/libtorch_cpu.so)\nframe #9: at::Tensor c10::Dispatcher::callUnboxed<at::Tensor, at::Tensor const&, at::Tensor const&>(c10::OperatorHandle const&, at::Tensor const&, at::Tensor const&) const + 0xb3 (0x7fe3258b0f93 in /home/gadhi/.virtualenvs/TranslationDetector-hIqwxbpz/lib/python3.8/site-packages/torch/lib/libtorch_python.so)\nframe #10: <unknown function> + 0x28ac337 (0x7fe307b10337 in /home/gadhi/.virtualenvs/TranslationDetector-hIqwxbpz/lib/python3.8/site-packages/torch/lib/libtorch_cpu.so)\nframe #11: torch::autograd::generated::MmBackward::apply(std::vector<at::Tensor, std::allocator<at::Tensor> >&&) + 0x1c4 (0x7fe307b4b9e4 in /home/gadhi/.virtualenvs/TranslationDetector-hIqwxbpz/lib/python3.8/site-packages/torch/lib/libtorch_cpu.so)\nframe #12: <unknown function> + 0x2d89c05 (0x7fe307fedc05 in /home/gadhi/.virtualenvs/TranslationDetector-hIqwxbpz/lib/python3.8/site-packages/torch/lib/libtorch_cpu.so)\nframe #13: torch::autograd::Engine::evaluate_function(std::shared_ptr<torch::autograd::GraphTask>&, torch::autograd::Node*, torch::autograd::InputBuffer&) + 0x16f3 (0x7fe307feaf03 in /home/gadhi/.virtualenvs/TranslationDetector-hIqwxbpz/lib/python3.8/site-packages/torch/lib/libtorch_cpu.so)\nframe #14: torch::autograd::Engine::thread_main(std::shared_ptr<torch::autograd::GraphTask> const&, bool) + 0x3d2 (0x7fe307febce2 in /home/gadhi/.virtualenvs/TranslationDetector-hIqwxbpz/lib/python3.8/site-packages/torch/lib/libtorch_cpu.so)\nframe #15: torch::autograd::Engine::thread_init(int) + 0x39 (0x7fe307fe4359 in /home/gadhi/.virtualenvs/TranslationDetector-hIqwxbpz/lib/python3.8/site-packages/torch/lib/libtorch_cpu.so)\nframe #16: torch::autograd::python::PythonEngine::thread_init(int) + 0x38 (0x7fe325b70548 in /home/gadhi/.virtualenvs/TranslationDetector-hIqwxbpz/lib/python3.8/site-packages/torch/lib/libtorch_python.so)\nframe #17: <unknown function> + 0xd6cb4 (0x7fe338b66cb4 in /lib/x86_64-linux-gnu/libstdc++.so.6)\nframe #18: <unknown function> + 0x9609 (0x7fe33c162609 in /lib/x86_64-linux-gnu/libpthread.so.0)\nframe #19: clone + 0x43 (0x7fe33c29e103 in /lib/x86_64-linux-gnu/libc.so.6)\n"
     ]
    }
   ],
   "source": [
    "pad_idx = TGT.vocab.stoi['<pad>']\n",
    "train_model(model, SRC, TGT, train_itr, valid_itr, device, 10, save_at=1)"
   ]
  },
  {
   "cell_type": "code",
   "execution_count": null,
   "metadata": {},
   "outputs": [],
   "source": []
  }
 ],
 "metadata": {
  "language_info": {
   "codemirror_mode": {
    "name": "ipython",
    "version": 3
   },
   "file_extension": ".py",
   "mimetype": "text/x-python",
   "name": "python",
   "nbconvert_exporter": "python",
   "pygments_lexer": "ipython3",
   "version": "3.8.2-final"
  },
  "orig_nbformat": 2,
  "kernelspec": {
   "name": "python38264bittranslationdetectorhiqwxbpzvenv4b85a69a239941bfb36f97ba6eeac7ae",
   "display_name": "Python 3.8.2 64-bit ('TranslationDetector-hIqwxbpz': venv)"
  }
 },
 "nbformat": 4,
 "nbformat_minor": 2
}